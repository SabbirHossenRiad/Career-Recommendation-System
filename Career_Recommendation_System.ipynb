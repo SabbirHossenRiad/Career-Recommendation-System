{
  "nbformat": 4,
  "nbformat_minor": 0,
  "metadata": {
    "colab": {
      "provenance": [],
      "include_colab_link": true
    },
    "kernelspec": {
      "name": "python3",
      "display_name": "Python 3"
    },
    "language_info": {
      "name": "python"
    },
    "widgets": {
      "application/vnd.jupyter.widget-state+json": {
        "22e659043ce64c28b8e28a10cf27ef70": {
          "model_module": "@jupyter-widgets/controls",
          "model_name": "DropdownModel",
          "model_module_version": "1.5.0",
          "state": {
            "_dom_classes": [],
            "_model_module": "@jupyter-widgets/controls",
            "_model_module_version": "1.5.0",
            "_model_name": "DropdownModel",
            "_options_labels": [
              "Commerce",
              "Humanities",
              "Science"
            ],
            "_view_count": null,
            "_view_module": "@jupyter-widgets/controls",
            "_view_module_version": "1.5.0",
            "_view_name": "DropdownView",
            "description": "📘 Group:",
            "description_tooltip": null,
            "disabled": false,
            "index": 0,
            "layout": "IPY_MODEL_67d5eaed31ba45b6ad52edda1bc2c7c4",
            "style": "IPY_MODEL_b0eb63f0e2c74937b73da64101518550"
          }
        },
        "67d5eaed31ba45b6ad52edda1bc2c7c4": {
          "model_module": "@jupyter-widgets/base",
          "model_name": "LayoutModel",
          "model_module_version": "1.2.0",
          "state": {
            "_model_module": "@jupyter-widgets/base",
            "_model_module_version": "1.2.0",
            "_model_name": "LayoutModel",
            "_view_count": null,
            "_view_module": "@jupyter-widgets/base",
            "_view_module_version": "1.2.0",
            "_view_name": "LayoutView",
            "align_content": null,
            "align_items": null,
            "align_self": null,
            "border": null,
            "bottom": null,
            "display": null,
            "flex": null,
            "flex_flow": null,
            "grid_area": null,
            "grid_auto_columns": null,
            "grid_auto_flow": null,
            "grid_auto_rows": null,
            "grid_column": null,
            "grid_gap": null,
            "grid_row": null,
            "grid_template_areas": null,
            "grid_template_columns": null,
            "grid_template_rows": null,
            "height": null,
            "justify_content": null,
            "justify_items": null,
            "left": null,
            "margin": null,
            "max_height": null,
            "max_width": null,
            "min_height": null,
            "min_width": null,
            "object_fit": null,
            "object_position": null,
            "order": null,
            "overflow": null,
            "overflow_x": null,
            "overflow_y": null,
            "padding": null,
            "right": null,
            "top": null,
            "visibility": null,
            "width": null
          }
        },
        "b0eb63f0e2c74937b73da64101518550": {
          "model_module": "@jupyter-widgets/controls",
          "model_name": "DescriptionStyleModel",
          "model_module_version": "1.5.0",
          "state": {
            "_model_module": "@jupyter-widgets/controls",
            "_model_module_version": "1.5.0",
            "_model_name": "DescriptionStyleModel",
            "_view_count": null,
            "_view_module": "@jupyter-widgets/base",
            "_view_module_version": "1.2.0",
            "_view_name": "StyleView",
            "description_width": ""
          }
        },
        "035100f445114073905a48d3f629fd35": {
          "model_module": "@jupyter-widgets/controls",
          "model_name": "DropdownModel",
          "model_module_version": "1.5.0",
          "state": {
            "_dom_classes": [],
            "_model_module": "@jupyter-widgets/controls",
            "_model_module_version": "1.5.0",
            "_model_name": "DropdownModel",
            "_options_labels": [
              "High",
              "Low",
              "Medium"
            ],
            "_view_count": null,
            "_view_module": "@jupyter-widgets/controls",
            "_view_module_version": "1.5.0",
            "_view_name": "DropdownView",
            "description": "📐 Math:",
            "description_tooltip": null,
            "disabled": false,
            "index": 1,
            "layout": "IPY_MODEL_9744167a698a4ea78adbe758be39c5d2",
            "style": "IPY_MODEL_5b585e7fa006480ebe01de39a29d06bc"
          }
        },
        "9744167a698a4ea78adbe758be39c5d2": {
          "model_module": "@jupyter-widgets/base",
          "model_name": "LayoutModel",
          "model_module_version": "1.2.0",
          "state": {
            "_model_module": "@jupyter-widgets/base",
            "_model_module_version": "1.2.0",
            "_model_name": "LayoutModel",
            "_view_count": null,
            "_view_module": "@jupyter-widgets/base",
            "_view_module_version": "1.2.0",
            "_view_name": "LayoutView",
            "align_content": null,
            "align_items": null,
            "align_self": null,
            "border": null,
            "bottom": null,
            "display": null,
            "flex": null,
            "flex_flow": null,
            "grid_area": null,
            "grid_auto_columns": null,
            "grid_auto_flow": null,
            "grid_auto_rows": null,
            "grid_column": null,
            "grid_gap": null,
            "grid_row": null,
            "grid_template_areas": null,
            "grid_template_columns": null,
            "grid_template_rows": null,
            "height": null,
            "justify_content": null,
            "justify_items": null,
            "left": null,
            "margin": null,
            "max_height": null,
            "max_width": null,
            "min_height": null,
            "min_width": null,
            "object_fit": null,
            "object_position": null,
            "order": null,
            "overflow": null,
            "overflow_x": null,
            "overflow_y": null,
            "padding": null,
            "right": null,
            "top": null,
            "visibility": null,
            "width": null
          }
        },
        "5b585e7fa006480ebe01de39a29d06bc": {
          "model_module": "@jupyter-widgets/controls",
          "model_name": "DescriptionStyleModel",
          "model_module_version": "1.5.0",
          "state": {
            "_model_module": "@jupyter-widgets/controls",
            "_model_module_version": "1.5.0",
            "_model_name": "DescriptionStyleModel",
            "_view_count": null,
            "_view_module": "@jupyter-widgets/base",
            "_view_module_version": "1.2.0",
            "_view_name": "StyleView",
            "description_width": ""
          }
        },
        "ce150378ef284ffeb572e074d659a9aa": {
          "model_module": "@jupyter-widgets/controls",
          "model_name": "DropdownModel",
          "model_module_version": "1.5.0",
          "state": {
            "_dom_classes": [],
            "_model_module": "@jupyter-widgets/controls",
            "_model_module_version": "1.5.0",
            "_model_name": "DropdownModel",
            "_options_labels": [
              "No",
              "Yes"
            ],
            "_view_count": null,
            "_view_module": "@jupyter-widgets/controls",
            "_view_module_version": "1.5.0",
            "_view_name": "DropdownView",
            "description": "💻 Tech:",
            "description_tooltip": null,
            "disabled": false,
            "index": 0,
            "layout": "IPY_MODEL_21df17c040ae45ee8fd1d444621705c7",
            "style": "IPY_MODEL_56810f33024f41a88beb731727deb304"
          }
        },
        "21df17c040ae45ee8fd1d444621705c7": {
          "model_module": "@jupyter-widgets/base",
          "model_name": "LayoutModel",
          "model_module_version": "1.2.0",
          "state": {
            "_model_module": "@jupyter-widgets/base",
            "_model_module_version": "1.2.0",
            "_model_name": "LayoutModel",
            "_view_count": null,
            "_view_module": "@jupyter-widgets/base",
            "_view_module_version": "1.2.0",
            "_view_name": "LayoutView",
            "align_content": null,
            "align_items": null,
            "align_self": null,
            "border": null,
            "bottom": null,
            "display": null,
            "flex": null,
            "flex_flow": null,
            "grid_area": null,
            "grid_auto_columns": null,
            "grid_auto_flow": null,
            "grid_auto_rows": null,
            "grid_column": null,
            "grid_gap": null,
            "grid_row": null,
            "grid_template_areas": null,
            "grid_template_columns": null,
            "grid_template_rows": null,
            "height": null,
            "justify_content": null,
            "justify_items": null,
            "left": null,
            "margin": null,
            "max_height": null,
            "max_width": null,
            "min_height": null,
            "min_width": null,
            "object_fit": null,
            "object_position": null,
            "order": null,
            "overflow": null,
            "overflow_x": null,
            "overflow_y": null,
            "padding": null,
            "right": null,
            "top": null,
            "visibility": null,
            "width": null
          }
        },
        "56810f33024f41a88beb731727deb304": {
          "model_module": "@jupyter-widgets/controls",
          "model_name": "DescriptionStyleModel",
          "model_module_version": "1.5.0",
          "state": {
            "_model_module": "@jupyter-widgets/controls",
            "_model_module_version": "1.5.0",
            "_model_name": "DescriptionStyleModel",
            "_view_count": null,
            "_view_module": "@jupyter-widgets/base",
            "_view_module_version": "1.2.0",
            "_view_name": "StyleView",
            "description_width": ""
          }
        },
        "62c0f6dc896e4160a33acb226bdc6f76": {
          "model_module": "@jupyter-widgets/controls",
          "model_name": "DropdownModel",
          "model_module_version": "1.5.0",
          "state": {
            "_dom_classes": [],
            "_model_module": "@jupyter-widgets/controls",
            "_model_module_version": "1.5.0",
            "_model_name": "DropdownModel",
            "_options_labels": [
              "High",
              "Low",
              "Medium"
            ],
            "_view_count": null,
            "_view_module": "@jupyter-widgets/controls",
            "_view_module_version": "1.5.0",
            "_view_name": "DropdownView",
            "description": "🎨 Creativity:",
            "description_tooltip": null,
            "disabled": false,
            "index": 0,
            "layout": "IPY_MODEL_6c3e51257d8f4bca83efc4fced516260",
            "style": "IPY_MODEL_140adac5be6e447db7b69afc0e6708d7"
          }
        },
        "6c3e51257d8f4bca83efc4fced516260": {
          "model_module": "@jupyter-widgets/base",
          "model_name": "LayoutModel",
          "model_module_version": "1.2.0",
          "state": {
            "_model_module": "@jupyter-widgets/base",
            "_model_module_version": "1.2.0",
            "_model_name": "LayoutModel",
            "_view_count": null,
            "_view_module": "@jupyter-widgets/base",
            "_view_module_version": "1.2.0",
            "_view_name": "LayoutView",
            "align_content": null,
            "align_items": null,
            "align_self": null,
            "border": null,
            "bottom": null,
            "display": null,
            "flex": null,
            "flex_flow": null,
            "grid_area": null,
            "grid_auto_columns": null,
            "grid_auto_flow": null,
            "grid_auto_rows": null,
            "grid_column": null,
            "grid_gap": null,
            "grid_row": null,
            "grid_template_areas": null,
            "grid_template_columns": null,
            "grid_template_rows": null,
            "height": null,
            "justify_content": null,
            "justify_items": null,
            "left": null,
            "margin": null,
            "max_height": null,
            "max_width": null,
            "min_height": null,
            "min_width": null,
            "object_fit": null,
            "object_position": null,
            "order": null,
            "overflow": null,
            "overflow_x": null,
            "overflow_y": null,
            "padding": null,
            "right": null,
            "top": null,
            "visibility": null,
            "width": null
          }
        },
        "140adac5be6e447db7b69afc0e6708d7": {
          "model_module": "@jupyter-widgets/controls",
          "model_name": "DescriptionStyleModel",
          "model_module_version": "1.5.0",
          "state": {
            "_model_module": "@jupyter-widgets/controls",
            "_model_module_version": "1.5.0",
            "_model_name": "DescriptionStyleModel",
            "_view_count": null,
            "_view_module": "@jupyter-widgets/base",
            "_view_module_version": "1.2.0",
            "_view_name": "StyleView",
            "description_width": ""
          }
        },
        "3f9942af264b46b6a11fcf98ddf02df1": {
          "model_module": "@jupyter-widgets/controls",
          "model_name": "DropdownModel",
          "model_module_version": "1.5.0",
          "state": {
            "_dom_classes": [],
            "_model_module": "@jupyter-widgets/controls",
            "_model_module_version": "1.5.0",
            "_model_name": "DropdownModel",
            "_options_labels": [
              "1 year",
              "2 years",
              "3 years",
              "4 years",
              "5 years",
              "No experience"
            ],
            "_view_count": null,
            "_view_module": "@jupyter-widgets/controls",
            "_view_module_version": "1.5.0",
            "_view_name": "DropdownView",
            "description": "🧪 Experience:",
            "description_tooltip": null,
            "disabled": false,
            "index": 0,
            "layout": "IPY_MODEL_1e4021f3ff8840d4b88b60337394a579",
            "style": "IPY_MODEL_4c0456d78cd6465c9ba0afedfb6f564e"
          }
        },
        "1e4021f3ff8840d4b88b60337394a579": {
          "model_module": "@jupyter-widgets/base",
          "model_name": "LayoutModel",
          "model_module_version": "1.2.0",
          "state": {
            "_model_module": "@jupyter-widgets/base",
            "_model_module_version": "1.2.0",
            "_model_name": "LayoutModel",
            "_view_count": null,
            "_view_module": "@jupyter-widgets/base",
            "_view_module_version": "1.2.0",
            "_view_name": "LayoutView",
            "align_content": null,
            "align_items": null,
            "align_self": null,
            "border": null,
            "bottom": null,
            "display": null,
            "flex": null,
            "flex_flow": null,
            "grid_area": null,
            "grid_auto_columns": null,
            "grid_auto_flow": null,
            "grid_auto_rows": null,
            "grid_column": null,
            "grid_gap": null,
            "grid_row": null,
            "grid_template_areas": null,
            "grid_template_columns": null,
            "grid_template_rows": null,
            "height": null,
            "justify_content": null,
            "justify_items": null,
            "left": null,
            "margin": null,
            "max_height": null,
            "max_width": null,
            "min_height": null,
            "min_width": null,
            "object_fit": null,
            "object_position": null,
            "order": null,
            "overflow": null,
            "overflow_x": null,
            "overflow_y": null,
            "padding": null,
            "right": null,
            "top": null,
            "visibility": null,
            "width": null
          }
        },
        "4c0456d78cd6465c9ba0afedfb6f564e": {
          "model_module": "@jupyter-widgets/controls",
          "model_name": "DescriptionStyleModel",
          "model_module_version": "1.5.0",
          "state": {
            "_model_module": "@jupyter-widgets/controls",
            "_model_module_version": "1.5.0",
            "_model_name": "DescriptionStyleModel",
            "_view_count": null,
            "_view_module": "@jupyter-widgets/base",
            "_view_module_version": "1.2.0",
            "_view_name": "StyleView",
            "description_width": ""
          }
        },
        "bd629c953b324a5b86be3e05947e4f06": {
          "model_module": "@jupyter-widgets/controls",
          "model_name": "HBoxModel",
          "model_module_version": "1.5.0",
          "state": {
            "_dom_classes": [],
            "_model_module": "@jupyter-widgets/controls",
            "_model_module_version": "1.5.0",
            "_model_name": "HBoxModel",
            "_view_count": null,
            "_view_module": "@jupyter-widgets/controls",
            "_view_module_version": "1.5.0",
            "_view_name": "HBoxView",
            "box_style": "",
            "children": [
              "IPY_MODEL_fead337f1e804ead9a90dd51d2de012d",
              "IPY_MODEL_3df776f040714eb7931d46a918680c1b"
            ],
            "layout": "IPY_MODEL_63e722304d024704b4be0e20bbc97331"
          }
        },
        "fead337f1e804ead9a90dd51d2de012d": {
          "model_module": "@jupyter-widgets/controls",
          "model_name": "ButtonModel",
          "model_module_version": "1.5.0",
          "state": {
            "_dom_classes": [],
            "_model_module": "@jupyter-widgets/controls",
            "_model_module_version": "1.5.0",
            "_model_name": "ButtonModel",
            "_view_count": null,
            "_view_module": "@jupyter-widgets/controls",
            "_view_module_version": "1.5.0",
            "_view_name": "ButtonView",
            "button_style": "success",
            "description": "🔍 Find Career Path",
            "disabled": false,
            "icon": "",
            "layout": "IPY_MODEL_ee0d705cef334315a24564597089005b",
            "style": "IPY_MODEL_bd81d9c9616a4153abbe0f9710ec2aa5",
            "tooltip": ""
          }
        },
        "3df776f040714eb7931d46a918680c1b": {
          "model_module": "@jupyter-widgets/controls",
          "model_name": "ButtonModel",
          "model_module_version": "1.5.0",
          "state": {
            "_dom_classes": [],
            "_model_module": "@jupyter-widgets/controls",
            "_model_module_version": "1.5.0",
            "_model_name": "ButtonModel",
            "_view_count": null,
            "_view_module": "@jupyter-widgets/controls",
            "_view_module_version": "1.5.0",
            "_view_name": "ButtonView",
            "button_style": "warning",
            "description": "🔁 Reset",
            "disabled": false,
            "icon": "",
            "layout": "IPY_MODEL_fcfa6c322d804fafa7b33740bd8f25a4",
            "style": "IPY_MODEL_fd8aa444ae054e6394bd26cdfe348839",
            "tooltip": ""
          }
        },
        "63e722304d024704b4be0e20bbc97331": {
          "model_module": "@jupyter-widgets/base",
          "model_name": "LayoutModel",
          "model_module_version": "1.2.0",
          "state": {
            "_model_module": "@jupyter-widgets/base",
            "_model_module_version": "1.2.0",
            "_model_name": "LayoutModel",
            "_view_count": null,
            "_view_module": "@jupyter-widgets/base",
            "_view_module_version": "1.2.0",
            "_view_name": "LayoutView",
            "align_content": null,
            "align_items": null,
            "align_self": null,
            "border": null,
            "bottom": null,
            "display": null,
            "flex": null,
            "flex_flow": null,
            "grid_area": null,
            "grid_auto_columns": null,
            "grid_auto_flow": null,
            "grid_auto_rows": null,
            "grid_column": null,
            "grid_gap": null,
            "grid_row": null,
            "grid_template_areas": null,
            "grid_template_columns": null,
            "grid_template_rows": null,
            "height": null,
            "justify_content": null,
            "justify_items": null,
            "left": null,
            "margin": null,
            "max_height": null,
            "max_width": null,
            "min_height": null,
            "min_width": null,
            "object_fit": null,
            "object_position": null,
            "order": null,
            "overflow": null,
            "overflow_x": null,
            "overflow_y": null,
            "padding": null,
            "right": null,
            "top": null,
            "visibility": null,
            "width": null
          }
        },
        "ee0d705cef334315a24564597089005b": {
          "model_module": "@jupyter-widgets/base",
          "model_name": "LayoutModel",
          "model_module_version": "1.2.0",
          "state": {
            "_model_module": "@jupyter-widgets/base",
            "_model_module_version": "1.2.0",
            "_model_name": "LayoutModel",
            "_view_count": null,
            "_view_module": "@jupyter-widgets/base",
            "_view_module_version": "1.2.0",
            "_view_name": "LayoutView",
            "align_content": null,
            "align_items": null,
            "align_self": null,
            "border": null,
            "bottom": null,
            "display": null,
            "flex": null,
            "flex_flow": null,
            "grid_area": null,
            "grid_auto_columns": null,
            "grid_auto_flow": null,
            "grid_auto_rows": null,
            "grid_column": null,
            "grid_gap": null,
            "grid_row": null,
            "grid_template_areas": null,
            "grid_template_columns": null,
            "grid_template_rows": null,
            "height": null,
            "justify_content": null,
            "justify_items": null,
            "left": null,
            "margin": null,
            "max_height": null,
            "max_width": null,
            "min_height": null,
            "min_width": null,
            "object_fit": null,
            "object_position": null,
            "order": null,
            "overflow": null,
            "overflow_x": null,
            "overflow_y": null,
            "padding": null,
            "right": null,
            "top": null,
            "visibility": null,
            "width": null
          }
        },
        "bd81d9c9616a4153abbe0f9710ec2aa5": {
          "model_module": "@jupyter-widgets/controls",
          "model_name": "ButtonStyleModel",
          "model_module_version": "1.5.0",
          "state": {
            "_model_module": "@jupyter-widgets/controls",
            "_model_module_version": "1.5.0",
            "_model_name": "ButtonStyleModel",
            "_view_count": null,
            "_view_module": "@jupyter-widgets/base",
            "_view_module_version": "1.2.0",
            "_view_name": "StyleView",
            "button_color": null,
            "font_weight": ""
          }
        },
        "fcfa6c322d804fafa7b33740bd8f25a4": {
          "model_module": "@jupyter-widgets/base",
          "model_name": "LayoutModel",
          "model_module_version": "1.2.0",
          "state": {
            "_model_module": "@jupyter-widgets/base",
            "_model_module_version": "1.2.0",
            "_model_name": "LayoutModel",
            "_view_count": null,
            "_view_module": "@jupyter-widgets/base",
            "_view_module_version": "1.2.0",
            "_view_name": "LayoutView",
            "align_content": null,
            "align_items": null,
            "align_self": null,
            "border": null,
            "bottom": null,
            "display": null,
            "flex": null,
            "flex_flow": null,
            "grid_area": null,
            "grid_auto_columns": null,
            "grid_auto_flow": null,
            "grid_auto_rows": null,
            "grid_column": null,
            "grid_gap": null,
            "grid_row": null,
            "grid_template_areas": null,
            "grid_template_columns": null,
            "grid_template_rows": null,
            "height": null,
            "justify_content": null,
            "justify_items": null,
            "left": null,
            "margin": null,
            "max_height": null,
            "max_width": null,
            "min_height": null,
            "min_width": null,
            "object_fit": null,
            "object_position": null,
            "order": null,
            "overflow": null,
            "overflow_x": null,
            "overflow_y": null,
            "padding": null,
            "right": null,
            "top": null,
            "visibility": null,
            "width": null
          }
        },
        "fd8aa444ae054e6394bd26cdfe348839": {
          "model_module": "@jupyter-widgets/controls",
          "model_name": "ButtonStyleModel",
          "model_module_version": "1.5.0",
          "state": {
            "_model_module": "@jupyter-widgets/controls",
            "_model_module_version": "1.5.0",
            "_model_name": "ButtonStyleModel",
            "_view_count": null,
            "_view_module": "@jupyter-widgets/base",
            "_view_module_version": "1.2.0",
            "_view_name": "StyleView",
            "button_color": null,
            "font_weight": ""
          }
        },
        "3f3aa23fd34f414f9f9dbfce133ad635": {
          "model_module": "@jupyter-widgets/output",
          "model_name": "OutputModel",
          "model_module_version": "1.0.0",
          "state": {
            "_dom_classes": [],
            "_model_module": "@jupyter-widgets/output",
            "_model_module_version": "1.0.0",
            "_model_name": "OutputModel",
            "_view_count": null,
            "_view_module": "@jupyter-widgets/output",
            "_view_module_version": "1.0.0",
            "_view_name": "OutputView",
            "layout": "IPY_MODEL_76fb3e7e67f14f0685546f6da828f883",
            "msg_id": "",
            "outputs": [
              {
                "output_type": "stream",
                "name": "stdout",
                "text": [
                  "\n",
                  "🎯 Career Recommendation Path:\n",
                  "\n",
                  "→ Group=Commerce\n",
                  "→ Math=Low\n",
                  "→ Tech=No\n",
                  "→ Creativity=High\n",
                  "→ Experience=1 year\n",
                  "→ Career=Bank Teller\n",
                  "\n",
                  "🧮 Total Path Cost: 6\n"
                ]
              },
              {
                "output_type": "display_data",
                "data": {
                  "text/plain": "<Figure size 1200x600 with 1 Axes>",
                  "image/png": "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\n"
                },
                "metadata": {}
              },
              {
                "output_type": "stream",
                "name": "stdout",
                "text": [
                  "\n",
                  "💡 Top 3 Career Recommendations:\n",
                  "\n",
                  "1. Bank Teller\n",
                  "2. Customer Service Rep\n",
                  "3. Sales Executive\n"
                ]
              }
            ]
          }
        },
        "76fb3e7e67f14f0685546f6da828f883": {
          "model_module": "@jupyter-widgets/base",
          "model_name": "LayoutModel",
          "model_module_version": "1.2.0",
          "state": {
            "_model_module": "@jupyter-widgets/base",
            "_model_module_version": "1.2.0",
            "_model_name": "LayoutModel",
            "_view_count": null,
            "_view_module": "@jupyter-widgets/base",
            "_view_module_version": "1.2.0",
            "_view_name": "LayoutView",
            "align_content": null,
            "align_items": null,
            "align_self": null,
            "border": null,
            "bottom": null,
            "display": null,
            "flex": null,
            "flex_flow": null,
            "grid_area": null,
            "grid_auto_columns": null,
            "grid_auto_flow": null,
            "grid_auto_rows": null,
            "grid_column": null,
            "grid_gap": null,
            "grid_row": null,
            "grid_template_areas": null,
            "grid_template_columns": null,
            "grid_template_rows": null,
            "height": null,
            "justify_content": null,
            "justify_items": null,
            "left": null,
            "margin": null,
            "max_height": null,
            "max_width": null,
            "min_height": null,
            "min_width": null,
            "object_fit": null,
            "object_position": null,
            "order": null,
            "overflow": null,
            "overflow_x": null,
            "overflow_y": null,
            "padding": null,
            "right": null,
            "top": null,
            "visibility": null,
            "width": null
          }
        }
      }
    }
  },
  "cells": [
    {
      "cell_type": "markdown",
      "metadata": {
        "id": "view-in-github",
        "colab_type": "text"
      },
      "source": [
        "<a href=\"https://colab.research.google.com/github/SabbirHossenRiad/Career-Recommendation-System/blob/main/Career_Recommendation_System.ipynb\" target=\"_parent\"><img src=\"https://colab.research.google.com/assets/colab-badge.svg\" alt=\"Open In Colab\"/></a>"
      ]
    },
    {
      "cell_type": "code",
      "source": [
        "# Mount Google Drive\n",
        "from google.colab import drive\n",
        "drive.mount('/content/drive')"
      ],
      "metadata": {
        "id": "tfc7q5R2doqE",
        "colab": {
          "base_uri": "https://localhost:8080/"
        },
        "outputId": "6865b71e-b133-416a-d0e3-5ad6caf41982"
      },
      "execution_count": 2,
      "outputs": [
        {
          "output_type": "stream",
          "name": "stdout",
          "text": [
            "Drive already mounted at /content/drive; to attempt to forcibly remount, call drive.mount(\"/content/drive\", force_remount=True).\n"
          ]
        }
      ]
    },
    {
      "cell_type": "code",
      "source": [
        "from google.colab import drive\n",
        "drive.mount('/content/drive')"
      ],
      "metadata": {
        "colab": {
          "base_uri": "https://localhost:8080/"
        },
        "id": "sH36OC0fhnRJ",
        "outputId": "0d3a659f-280f-4280-d594-be9d9c95bf35"
      },
      "execution_count": 3,
      "outputs": [
        {
          "output_type": "stream",
          "name": "stdout",
          "text": [
            "Drive already mounted at /content/drive; to attempt to forcibly remount, call drive.mount(\"/content/drive\", force_remount=True).\n"
          ]
        }
      ]
    },
    {
      "cell_type": "code",
      "source": [
        "# STEP 1: Setup for Google Colab\n",
        "from google.colab import output\n",
        "output.enable_custom_widget_manager()\n"
      ],
      "metadata": {
        "id": "g0V4uCgRdpQD"
      },
      "execution_count": 4,
      "outputs": []
    },
    {
      "cell_type": "code",
      "source": [
        "# STEP 2: Import Required Libraries\n",
        "import pandas as pd\n",
        "import heapq\n",
        "import networkx as nx\n",
        "import matplotlib.pyplot as plt\n",
        "from IPython.display import display\n",
        "import ipywidgets as widgets\n",
        "from collections import defaultdict"
      ],
      "metadata": {
        "id": "kjhsaFWBioVu"
      },
      "execution_count": 5,
      "outputs": []
    },
    {
      "cell_type": "code",
      "source": [
        "# STEP 3: Load Dataset\n",
        "file_path = '/content/drive/MyDrive/AI/Data set/career_dataset.csv'\n",
        "df = pd.read_csv(file_path)"
      ],
      "metadata": {
        "id": "JJuVAoNHipQL"
      },
      "execution_count": 6,
      "outputs": []
    },
    {
      "cell_type": "code",
      "source": [
        "# Build graph from dataset\n",
        "def build_graph_from_dataset(df):\n",
        "    G = {}\n",
        "    for _, row in df.iterrows():\n",
        "        path = [\n",
        "            f\"Group={row['Group']}\",\n",
        "            f\"Math={row['Math_Score']}\",\n",
        "            f\"Tech={row['Tech_Interest']}\",\n",
        "            f\"Creativity={row['Creativity']}\",\n",
        "            f\"Experience={row['Experience']}\",\n",
        "            f\"Career={row['Career']}\"\n",
        "        ]\n",
        "        for i in range(len(path) - 1):\n",
        "            src = path[i]\n",
        "            dst = path[i + 1]\n",
        "            if src not in G:\n",
        "                G[src] = []\n",
        "            if dst not in [node for node, _ in G[src]]:\n",
        "                G[src].append((dst, 1))  # Uniform edge cost\n",
        "    return G\n"
      ],
      "metadata": {
        "id": "IKyvwvtIipTf"
      },
      "execution_count": 7,
      "outputs": []
    },
    {
      "cell_type": "code",
      "source": [
        "\n",
        "# Build heuristics\n",
        "def build_heuristics(G, user_input):\n",
        "    H = {}\n",
        "    for node in G:\n",
        "        if node.startswith(\"Career=\"):\n",
        "            H[node] = 0\n",
        "        else:\n",
        "            key, value = node.split('=')\n",
        "            if key in user_input:\n",
        "                H[node] = 0 if user_input[key] == value else 2\n",
        "            else:\n",
        "                H[node] = 1\n",
        "    return H"
      ],
      "metadata": {
        "id": "qWFEvi75ipWb"
      },
      "execution_count": 8,
      "outputs": []
    },
    {
      "cell_type": "code",
      "source": [
        "\n",
        "# A* Search Algorithm\n",
        "def a_star_search(graph, heuristics, start_node, goal_prefix=\"Career=\"):\n",
        "    frontier = []\n",
        "    heapq.heappush(frontier, (0, start_node, []))\n",
        "    visited = set()\n",
        "\n",
        "    while frontier:\n",
        "        f_score, current, path = heapq.heappop(frontier)\n",
        "        path = path + [current]\n",
        "\n",
        "        if current.startswith(goal_prefix):\n",
        "            return path, f_score\n",
        "\n",
        "        if current in visited:\n",
        "            continue\n",
        "        visited.add(current)\n",
        "\n",
        "        for neighbor, cost in graph.get(current, []):\n",
        "            g = len(path)\n",
        "            h = heuristics.get(neighbor, 1)\n",
        "            f = g + h\n",
        "            heapq.heappush(frontier, (f, neighbor, path))\n",
        "\n",
        "    return None, None"
      ],
      "metadata": {
        "id": "KHqHGX_bizLr"
      },
      "execution_count": 9,
      "outputs": []
    },
    {
      "cell_type": "code",
      "source": [
        "# Filtered graph builder\n",
        "def build_filtered_graph(df, user_input):\n",
        "    filtered_df = df.copy()\n",
        "    for key, value in user_input.items():\n",
        "        filtered_df = filtered_df[filtered_df[key] == value]\n",
        "    G = build_graph_from_dataset(filtered_df)\n",
        "    H = build_heuristics(G, user_input)\n",
        "    return G, H"
      ],
      "metadata": {
        "id": "dKQvKHnpizdw"
      },
      "execution_count": 10,
      "outputs": []
    },
    {
      "cell_type": "code",
      "source": [
        "\n",
        "# Widgets for input\n",
        "group_widget = widgets.Dropdown(options=sorted(df['Group'].unique()), description='📘 Group:')\n",
        "math_widget = widgets.Dropdown(options=sorted(df['Math_Score'].unique()), description='📐 Math:')\n",
        "tech_widget = widgets.Dropdown(options=sorted(df['Tech_Interest'].unique()), description='💻 Tech:')\n",
        "creativity_widget = widgets.Dropdown(options=sorted(df['Creativity'].unique()), description='🎨 Creativity:')\n",
        "experience_widget = widgets.Dropdown(options=sorted(df['Experience'].unique()), description='🧪 Experience:')"
      ],
      "metadata": {
        "id": "4HYTO_CIi2j4"
      },
      "execution_count": 11,
      "outputs": []
    },
    {
      "cell_type": "code",
      "source": [
        "# Buttons and output area\n",
        "submit_button = widgets.Button(description=\"🔍 Find Career Path\", button_style='success')\n",
        "reset_button = widgets.Button(description=\"🔁 Reset\", button_style='warning')\n",
        "output_area = widgets.Output()\n"
      ],
      "metadata": {
        "id": "P4G5wgxfi2nw"
      },
      "execution_count": 12,
      "outputs": []
    },
    {
      "cell_type": "code",
      "source": [
        "# Recommendation system\n",
        "def get_top_recommendations(df, user_input, num_recommendations=3):\n",
        "    recommendations = defaultdict(int)\n",
        "    similar_users = df[\n",
        "        (df['Group'] == user_input['Group']) &\n",
        "        (df['Math_Score'] == user_input['Math_Score'])\n",
        "    ]\n",
        "    if 'Career' in user_input:\n",
        "        similar_users = similar_users[similar_users['Career'] != user_input.get('Career')]\n",
        "\n",
        "    for career in similar_users['Career']:\n",
        "        recommendations[career] += 1\n",
        "\n",
        "    sorted_recommendations = sorted(recommendations.items(), key=lambda x: x[1], reverse=True)\n",
        "    return [career for career, _ in sorted_recommendations[:num_recommendations]]\n"
      ],
      "metadata": {
        "id": "McRPKUy1izgp"
      },
      "execution_count": 13,
      "outputs": []
    },
    {
      "cell_type": "code",
      "source": [
        "\n",
        "# Submit button functionality\n",
        "def on_submit_click(b):\n",
        "    with output_area:\n",
        "        output_area.clear_output()\n",
        "\n",
        "        user_input = {\n",
        "            'Group': group_widget.value,\n",
        "            'Math_Score': math_widget.value,\n",
        "            'Tech_Interest': tech_widget.value,\n",
        "            'Creativity': creativity_widget.value,\n",
        "            'Experience': experience_widget.value\n",
        "        }\n",
        "\n",
        "        G, H = build_filtered_graph(df, user_input)\n",
        "        start_node = f\"Group={user_input['Group']}\"\n",
        "        path, cost = a_star_search(G, H, start_node)\n",
        "\n",
        "        if path:\n",
        "            print(\"\\n🎯 Career Recommendation Path:\\n\")\n",
        "            for p in path:\n",
        "                print(\"→\", p)\n",
        "            print(\"\\n🧮 Total Path Cost:\", cost)\n",
        "\n",
        "            Gviz = nx.DiGraph()\n",
        "            for i in range(len(path) - 1):\n",
        "                Gviz.add_edge(path[i], path[i + 1])\n",
        "\n",
        "            plt.figure(figsize=(12, 6))\n",
        "            pos = nx.spring_layout(Gviz, seed=42)\n",
        "            nx.draw(Gviz, pos, with_labels=True, node_color='skyblue', node_size=3000,\n",
        "                    font_size=10, font_weight='bold', edge_color='gray')\n",
        "            plt.title(\"A* Decision Path to Career\")\n",
        "            plt.show()\n",
        "\n",
        "            recommendations = get_top_recommendations(df, user_input, num_recommendations=3)\n",
        "            if recommendations:\n",
        "                print(\"\\n💡 Top 3 Career Recommendations:\\n\")\n",
        "                for i, rec in enumerate(recommendations):\n",
        "                    print(f\"{i+1}. {rec}\")\n",
        "        else:\n",
        "            print(\"❌ No career path found. Try changing your selections.\")\n"
      ],
      "metadata": {
        "id": "zYfU8g9ei7tB"
      },
      "execution_count": 14,
      "outputs": []
    },
    {
      "cell_type": "code",
      "source": [
        "\n",
        "# Reset button functionality\n",
        "def on_reset_click(b):\n",
        "    group_widget.value = None\n",
        "    math_widget.value = None\n",
        "    tech_widget.value = None\n",
        "    creativity_widget.value = None\n",
        "    experience_widget.value = None\n",
        "    output_area.clear_output()"
      ],
      "metadata": {
        "id": "tfW2TWrsi8TL"
      },
      "execution_count": 15,
      "outputs": []
    },
    {
      "cell_type": "code",
      "source": [
        "\n",
        "# Bind functions to buttons\n",
        "submit_button.on_click(on_submit_click)\n",
        "reset_button.on_click(on_reset_click)"
      ],
      "metadata": {
        "id": "0zJI1LhmjBIs"
      },
      "execution_count": 16,
      "outputs": []
    },
    {
      "cell_type": "code",
      "source": [
        "\n",
        "\n",
        "# Final UI display\n",
        "display(group_widget, math_widget, tech_widget, creativity_widget, experience_widget,\n",
        "        widgets.HBox([submit_button, reset_button]), output_area)\n"
      ],
      "metadata": {
        "id": "ocz7PEU1dpSn",
        "colab": {
          "base_uri": "https://localhost:8080/",
          "height": 1000,
          "referenced_widgets": [
            "22e659043ce64c28b8e28a10cf27ef70",
            "67d5eaed31ba45b6ad52edda1bc2c7c4",
            "b0eb63f0e2c74937b73da64101518550",
            "035100f445114073905a48d3f629fd35",
            "9744167a698a4ea78adbe758be39c5d2",
            "5b585e7fa006480ebe01de39a29d06bc",
            "ce150378ef284ffeb572e074d659a9aa",
            "21df17c040ae45ee8fd1d444621705c7",
            "56810f33024f41a88beb731727deb304",
            "62c0f6dc896e4160a33acb226bdc6f76",
            "6c3e51257d8f4bca83efc4fced516260",
            "140adac5be6e447db7b69afc0e6708d7",
            "3f9942af264b46b6a11fcf98ddf02df1",
            "1e4021f3ff8840d4b88b60337394a579",
            "4c0456d78cd6465c9ba0afedfb6f564e",
            "bd629c953b324a5b86be3e05947e4f06",
            "fead337f1e804ead9a90dd51d2de012d",
            "3df776f040714eb7931d46a918680c1b",
            "63e722304d024704b4be0e20bbc97331",
            "ee0d705cef334315a24564597089005b",
            "bd81d9c9616a4153abbe0f9710ec2aa5",
            "fcfa6c322d804fafa7b33740bd8f25a4",
            "fd8aa444ae054e6394bd26cdfe348839",
            "3f3aa23fd34f414f9f9dbfce133ad635",
            "76fb3e7e67f14f0685546f6da828f883"
          ]
        },
        "outputId": "67afcc37-e40a-4ab4-cdc4-4c1f972d3837"
      },
      "execution_count": 17,
      "outputs": [
        {
          "output_type": "display_data",
          "data": {
            "text/plain": [
              "Dropdown(description='📘 Group:', options=('Commerce', 'Humanities', 'Science'), value='Commerce')"
            ],
            "application/vnd.jupyter.widget-view+json": {
              "version_major": 2,
              "version_minor": 0,
              "model_id": "22e659043ce64c28b8e28a10cf27ef70"
            }
          },
          "metadata": {
            "application/vnd.jupyter.widget-view+json": {
              "colab": {
                "custom_widget_manager": {
                  "url": "https://ssl.gstatic.com/colaboratory-static/widgets/colab-cdn-widget-manager/2b70e893a8ba7c0f/manager.min.js"
                }
              }
            }
          }
        },
        {
          "output_type": "display_data",
          "data": {
            "text/plain": [
              "Dropdown(description='📐 Math:', options=('High', 'Low', 'Medium'), value='High')"
            ],
            "application/vnd.jupyter.widget-view+json": {
              "version_major": 2,
              "version_minor": 0,
              "model_id": "035100f445114073905a48d3f629fd35"
            }
          },
          "metadata": {
            "application/vnd.jupyter.widget-view+json": {
              "colab": {
                "custom_widget_manager": {
                  "url": "https://ssl.gstatic.com/colaboratory-static/widgets/colab-cdn-widget-manager/2b70e893a8ba7c0f/manager.min.js"
                }
              }
            }
          }
        },
        {
          "output_type": "display_data",
          "data": {
            "text/plain": [
              "Dropdown(description='💻 Tech:', options=('No', 'Yes'), value='No')"
            ],
            "application/vnd.jupyter.widget-view+json": {
              "version_major": 2,
              "version_minor": 0,
              "model_id": "ce150378ef284ffeb572e074d659a9aa"
            }
          },
          "metadata": {
            "application/vnd.jupyter.widget-view+json": {
              "colab": {
                "custom_widget_manager": {
                  "url": "https://ssl.gstatic.com/colaboratory-static/widgets/colab-cdn-widget-manager/2b70e893a8ba7c0f/manager.min.js"
                }
              }
            }
          }
        },
        {
          "output_type": "display_data",
          "data": {
            "text/plain": [
              "Dropdown(description='🎨 Creativity:', options=('High', 'Low', 'Medium'), value='High')"
            ],
            "application/vnd.jupyter.widget-view+json": {
              "version_major": 2,
              "version_minor": 0,
              "model_id": "62c0f6dc896e4160a33acb226bdc6f76"
            }
          },
          "metadata": {
            "application/vnd.jupyter.widget-view+json": {
              "colab": {
                "custom_widget_manager": {
                  "url": "https://ssl.gstatic.com/colaboratory-static/widgets/colab-cdn-widget-manager/2b70e893a8ba7c0f/manager.min.js"
                }
              }
            }
          }
        },
        {
          "output_type": "display_data",
          "data": {
            "text/plain": [
              "Dropdown(description='🧪 Experience:', options=('1 year', '2 years', '3 years', '4 years', '5 years', 'No exper…"
            ],
            "application/vnd.jupyter.widget-view+json": {
              "version_major": 2,
              "version_minor": 0,
              "model_id": "3f9942af264b46b6a11fcf98ddf02df1"
            }
          },
          "metadata": {
            "application/vnd.jupyter.widget-view+json": {
              "colab": {
                "custom_widget_manager": {
                  "url": "https://ssl.gstatic.com/colaboratory-static/widgets/colab-cdn-widget-manager/2b70e893a8ba7c0f/manager.min.js"
                }
              }
            }
          }
        },
        {
          "output_type": "display_data",
          "data": {
            "text/plain": [
              "HBox(children=(Button(button_style='success', description='🔍 Find Career Path', style=ButtonStyle()), Button(b…"
            ],
            "application/vnd.jupyter.widget-view+json": {
              "version_major": 2,
              "version_minor": 0,
              "model_id": "bd629c953b324a5b86be3e05947e4f06"
            }
          },
          "metadata": {
            "application/vnd.jupyter.widget-view+json": {
              "colab": {
                "custom_widget_manager": {
                  "url": "https://ssl.gstatic.com/colaboratory-static/widgets/colab-cdn-widget-manager/2b70e893a8ba7c0f/manager.min.js"
                }
              }
            }
          }
        },
        {
          "output_type": "display_data",
          "data": {
            "text/plain": [
              "Output()"
            ],
            "application/vnd.jupyter.widget-view+json": {
              "version_major": 2,
              "version_minor": 0,
              "model_id": "3f3aa23fd34f414f9f9dbfce133ad635"
            }
          },
          "metadata": {
            "application/vnd.jupyter.widget-view+json": {
              "colab": {
                "custom_widget_manager": {
                  "url": "https://ssl.gstatic.com/colaboratory-static/widgets/colab-cdn-widget-manager/2b70e893a8ba7c0f/manager.min.js"
                }
              }
            }
          }
        }
      ]
    }
  ]
}